{
 "cells": [
  {
   "cell_type": "code",
   "execution_count": 126,
   "metadata": {},
   "outputs": [],
   "source": [
    "import pandas as pd\n",
    "import numpy as np\n",
    "import re\n",
    "import os\n",
    "import cv2\n",
    "import copy"
   ]
  },
  {
   "cell_type": "markdown",
   "metadata": {},
   "source": [
    "### Set file path"
   ]
  },
  {
   "cell_type": "code",
   "execution_count": 127,
   "metadata": {},
   "outputs": [],
   "source": [
    "data_dir = \"data/1107\"\n",
    "swing_dir = \"swing_1\"\n",
    "video_path = os.path.join(data_dir, swing_dir, \"video.avi\")\n",
    "\n",
    "csv_path = os.path.join(data_dir, swing_dir, \"pose_coord.csv\")\n",
    "cali_path = os.path.join(data_dir, \"cali_out.npz\")\n",
    "\n",
    "video_frame_range = (169, 348) # set the range of video frame, start at 0\n",
    "csv_frame_range = (0, 404) # set the range of csv frame, start at 0\n",
    "\n",
    "pattern = \"golf:(\\w+)\" # label pattern\n",
    "usecols = 86 # csv columns about coordinates\n",
    "\n",
    "auto_align = False\n",
    "\n",
    "# define three dots(vicon system) on the chessboard\n",
    "a = [-88.5, 291.2, 1593.1] # y+ direction\n",
    "b = [-94.4, 712.8, 1570.4] # origin\n",
    "c = [1.8, 666.5, 734.7]   # x+ direction"
   ]
  },
  {
   "cell_type": "markdown",
   "metadata": {},
   "source": [
    "### Parse CSV file\n",
    "replace \"nan\" with \"0\""
   ]
  },
  {
   "cell_type": "code",
   "execution_count": 128,
   "metadata": {},
   "outputs": [],
   "source": [
    "def parse_csv(filepath, usecols, pattern):\n",
    "    fps, labels, keypoints = 0, [], []\n",
    "\n",
    "    fps = int(pd.read_csv(filepath, nrows=1).values[0][0])\n",
    "\n",
    "    csv_df = pd.read_csv(filepath, skiprows=[0, 1], usecols=range(usecols))\n",
    "    pattern = re.compile(pattern)\n",
    "\n",
    "    labels = [pattern.match(col)[1] for col in csv_df.columns.values if pattern.match(col)]\n",
    "    \n",
    "    coord_df = csv_df.iloc[2:, 2:]\n",
    "    coord_df.fillna(value=0, inplace=True)\n",
    "    coord_li = coord_df.values\n",
    "\n",
    "    for i in range(len(coord_li)):\n",
    "        coord = [[float(coord_li[i][j]), -float(coord_li[i][j+1]), -float(coord_li[i][j+2])] for j in range(0, len(coord_li[i]), 3)]\n",
    "        keypoints.append(coord)\n",
    "\n",
    "    return (fps, labels, keypoints)"
   ]
  },
  {
   "cell_type": "markdown",
   "metadata": {},
   "source": [
    "### Convert axis system\n",
    "from vicon to world system through three dots"
   ]
  },
  {
   "cell_type": "code",
   "execution_count": 129,
   "metadata": {},
   "outputs": [],
   "source": [
    "def vicon_to_world_axis(base_dots, dots):\n",
    "    a, b, c = np.asarray(base_dots[0]), np.asarray(base_dots[1]), np.asarray(base_dots[2])\n",
    "    x_vec = c - b\n",
    "    y_vec = a - b\n",
    "    z_vec = np.cross(x_vec, y_vec)\n",
    "\n",
    "    x_norm = np.linalg.norm(x_vec)\n",
    "    y_norm = np.linalg.norm(y_vec)\n",
    "    z_norm = np.linalg.norm(z_vec)\n",
    "\n",
    "    result = []\n",
    "    for frame_dots in dots:\n",
    "        frame_result = []\n",
    "        for dot in frame_dots:\n",
    "            dot = np.asarray(dot)\n",
    "            dot_vec = dot - b\n",
    "\n",
    "            proj_x = (np.dot(dot_vec, x_vec) / x_norm**2) * x_vec\n",
    "            proj_y = (np.dot(dot_vec, y_vec) / y_norm**2) * y_vec\n",
    "            proj_z = (np.dot(dot_vec, z_vec) / z_norm**2) * z_vec\n",
    "\n",
    "            x_coord = np.linalg.norm(proj_x)\n",
    "            y_coord = np.linalg.norm(proj_y)\n",
    "            z_coord = np.linalg.norm(proj_z)\n",
    "\n",
    "            if not all(np.sign(x_vec)==np.sign(proj_x)): x_coord *= -1\n",
    "            if not all(np.sign(y_vec)==np.sign(proj_y)): y_coord *= -1\n",
    "            if not all(np.sign(z_vec)==np.sign(proj_z)): z_coord *= -1\n",
    "\n",
    "            frame_result.append([x_coord, y_coord, z_coord])\n",
    "\n",
    "        result.append(frame_result)\n",
    "\n",
    "    return result"
   ]
  },
  {
   "cell_type": "markdown",
   "metadata": {},
   "source": [
    "### Keypoints labels and edges\n",
    "total 17 keypoints for person, and 2 for club"
   ]
  },
  {
   "cell_type": "code",
   "execution_count": 130,
   "metadata": {},
   "outputs": [],
   "source": [
    "label_person = {\n",
    "    0: \"hip\",  # estimate\n",
    "    1: \"r_hip\", \n",
    "    2: \"r_knee\", \n",
    "    3: \"r_ankle\", \n",
    "    4: \"l_hip\", \n",
    "    5: \"l_knee\", \n",
    "    6: \"l_ankle\", \n",
    "    7: \"spine\", \n",
    "    8: \"neck\", # estimate\n",
    "    9: \"chin\", # estimate\n",
    "    10: \"head\", \n",
    "    11: \"l_shoulder\", \n",
    "    12: \"l_elbow\", \n",
    "    13: \"l_wrist\", \n",
    "    14: \"r_shoulder\", \n",
    "    15: \"r_elbow\", \n",
    "    16: \"r_wrist\"}\n",
    "label_club = {0: \"shaft1\", 1: \"shaft2\", 2: \"head\"}\n",
    "\n",
    "edges_person = [(0, 1), (1, 2), (2, 3), (0, 4), (4, 5), (5, 6), (0, 7), (7, 8), (8, 9), (9, 10), (8, 11), (11, 12), (12, 13), (8, 14), (14, 15), (15, 16)]\n",
    "edges_club = [(0, 1), (1, 2)]"
   ]
  },
  {
   "cell_type": "markdown",
   "metadata": {},
   "source": [
    "### Estimate the center keypoints"
   ]
  },
  {
   "cell_type": "code",
   "execution_count": 131,
   "metadata": {},
   "outputs": [],
   "source": [
    "def estimate_keypoints(label_vicon, keypoints):\n",
    "    keypoints = np.asarray(keypoints)\n",
    "    kps_person, kps_club = [], []\n",
    "    for item in keypoints:\n",
    "        # person \n",
    "        head = (item[label_vicon.index(\"head1\")] + item[label_vicon.index(\"head2\")]) / 2\n",
    "\n",
    "        spine = (item[label_vicon.index(\"center1\")] + item[label_vicon.index(\"center2\")]) / 2\n",
    "        r_hip = (item[label_vicon.index(\"center3\")] + item[label_vicon.index(\"center4\")]) / 2\n",
    "        l_hip = (item[label_vicon.index(\"center5\")] + item[label_vicon.index(\"center6\")]) / 2\n",
    "        hip = (r_hip + l_hip) / 2\n",
    "\n",
    "        l_shoulder = (item[label_vicon.index(\"left_arm1\")] + item[label_vicon.index(\"left_arm2\")]) / 2\n",
    "        r_shoulder = (item[label_vicon.index(\"right_arm1\")] + item[label_vicon.index(\"right_arm2\")]) / 2\n",
    "        neck = (l_shoulder + r_shoulder) / 2\n",
    "\n",
    "        chin = (head + neck) / 2\n",
    "\n",
    "        l_elbow = (item[label_vicon.index(\"left_arm3\")] + item[label_vicon.index(\"left_arm4\")]) / 2\n",
    "        r_elbow = (item[label_vicon.index(\"right_arm3\")] + item[label_vicon.index(\"right_arm4\")]) / 2\n",
    "\n",
    "        l_wrist = (item[label_vicon.index(\"left_arm5\")] + item[label_vicon.index(\"left_arm6\")]) / 2\n",
    "        r_wrist = (item[label_vicon.index(\"right_arm5\")] + item[label_vicon.index(\"right_arm6\")]) / 2\n",
    "\n",
    "        l_knee = (item[label_vicon.index(\"left_leg1\")] + item[label_vicon.index(\"left_leg2\")]) / 2\n",
    "        r_knee = (item[label_vicon.index(\"right_leg1\")] + item[label_vicon.index(\"right_leg2\")]) / 2\n",
    "\n",
    "        l_ankle = item[label_vicon.index(\"left_leg3\")]\n",
    "        r_ankle = item[label_vicon.index(\"right_leg3\")]\n",
    "\n",
    "        kps_person.append([\n",
    "            hip.tolist(), r_hip.tolist(), r_knee.tolist(), r_ankle.tolist(), l_hip.tolist(), \n",
    "            l_knee.tolist(), l_ankle.tolist(), spine.tolist(), neck.tolist(), chin.tolist(), \n",
    "            head.tolist(), l_shoulder.tolist(), l_elbow.tolist(), l_wrist.tolist(), r_shoulder.tolist(), \n",
    "            r_elbow.tolist(), r_wrist.tolist()\n",
    "        ])\n",
    "\n",
    "        # club\n",
    "        shaft1 = (item[label_vicon.index(\"club1\")]).tolist()\n",
    "        shaft2 = (item[label_vicon.index(\"club2\")]).tolist()\n",
    "\n",
    "        unit_vector = (item[label_vicon.index(\"club2\")] - item[label_vicon.index(\"club1\")]) / np.linalg.norm(item[label_vicon.index(\"club2\")] - item[label_vicon.index(\"club1\")])\n",
    "        club_head = item[label_vicon.index(\"club2\")] + unit_vector *290 \n",
    "        \n",
    "        kps_club.append([shaft1, shaft2, club_head])\n",
    "\n",
    "    return (kps_person, kps_club)"
   ]
  },
  {
   "cell_type": "markdown",
   "metadata": {},
   "source": [
    "### Get total keypoints\n",
    "- parse csv file\n",
    "- (optional) convert from vicon to chessboard system\n",
    "- estimate real joints"
   ]
  },
  {
   "cell_type": "code",
   "execution_count": 132,
   "metadata": {},
   "outputs": [
    {
     "name": "stdout",
     "output_type": "stream",
     "text": [
      "Vicon FPS = 110\n",
      "Total person keypoint frame = 405\n",
      "Total club keypoint frame = 405\n"
     ]
    }
   ],
   "source": [
    "fps, label_vicon, keypoints = parse_csv(csv_path, usecols, pattern)\n",
    "# keypoints = vicon_to_world_axis((a, b, c), keypoints)\n",
    "person_kp, club_kp = estimate_keypoints(label_vicon, keypoints)\n",
    "\n",
    "print(f\"Vicon FPS = {fps}\")\n",
    "print(f\"Total person keypoint frame = {len(person_kp)}\")\n",
    "print(f\"Total club keypoint frame = {len(club_kp)}\")\n"
   ]
  },
  {
   "cell_type": "markdown",
   "metadata": {},
   "source": [
    "### Load calibration result\n",
    "Extrinsic and Intrinsic matrix"
   ]
  },
  {
   "cell_type": "code",
   "execution_count": 133,
   "metadata": {},
   "outputs": [],
   "source": [
    "cali_info = np.load(cali_path)\n",
    "img_index = int(dict(cali_info[\"img_dict\"])[\"base_cb.bmp\"])\n",
    "\n",
    "rvecs, tvecs, mtx, dist = cali_info[\"rvecs\"], cali_info[\"tvecs\"], cali_info[\"mtx\"], cali_info[\"dist\"]\n",
    "rvecs, tvecs = rvecs[img_index], tvecs[img_index]"
   ]
  },
  {
   "cell_type": "markdown",
   "metadata": {},
   "source": [
    "### Render 2D skeleton on a single image"
   ]
  },
  {
   "cell_type": "code",
   "execution_count": 134,
   "metadata": {},
   "outputs": [],
   "source": [
    "def render_skeleton(frame, person, club):\n",
    "    person = tuple(person)\n",
    "    club = tuple(club)\n",
    "\n",
    "    size, p_color, c_color, thickness = 3, (255, 165, 0), (102, 255, 230), 3\n",
    "\n",
    "    for coord in person:\n",
    "        cv2.circle(frame, coord, size, p_color, thickness)\n",
    "    \n",
    "    for coord in club:\n",
    "        cv2.circle(frame, coord, size, c_color, thickness)\n",
    "\n",
    "    for edge in edges_person:\n",
    "        start, end = edge\n",
    "        cv2.line(frame, person[start], person[end], p_color, thickness=thickness)\n",
    "    \n",
    "    for edge in edges_club:\n",
    "        start, end = edge\n",
    "        cv2.line(frame, club[start], club[end], c_color, thickness=thickness)\n",
    "    \n",
    "    return frame\n",
    "        "
   ]
  },
  {
   "cell_type": "markdown",
   "metadata": {},
   "source": [
    "### Project 3D to 2D coordinates"
   ]
  },
  {
   "cell_type": "code",
   "execution_count": 135,
   "metadata": {},
   "outputs": [],
   "source": [
    "def project_to_2d(person, club, shift=15):\n",
    "    person_2d_kp = []\n",
    "    club_2d_kp = []\n",
    "\n",
    "    for coord in person:\n",
    "        imgPoint, _ = cv2.projectPoints(np.array(coord), rvecs, tvecs, mtx, dist)\n",
    "        point = [round(imgPoint[0][0][0]-shift), round(imgPoint[0][0][1])]\n",
    "        person_2d_kp.append(point)        \n",
    "    \n",
    "    for coord in club:\n",
    "        imgPoint, _ = cv2.projectPoints(np.array(coord), rvecs, tvecs, mtx, dist)\n",
    "        point = [round(imgPoint[0][0][0]-shift), round(imgPoint[0][0][1])]\n",
    "        club_2d_kp.append(point)\n",
    "    \n",
    "    return person_2d_kp, club_2d_kp"
   ]
  },
  {
   "cell_type": "markdown",
   "metadata": {},
   "source": [
    "### Align csv frames and video frames based on index"
   ]
  },
  {
   "cell_type": "code",
   "execution_count": 136,
   "metadata": {},
   "outputs": [
    {
     "name": "stdout",
     "output_type": "stream",
     "text": [
      "loading video frames ...\n",
      "loaded frame, count = 180\n",
      "loading csv frames ...\n",
      "selected_video_frame_idxs:\n",
      "len = 174\n",
      "[169, 170, 171, 172, 173, 174, 175, 176, 177, 178, 179, 180, 181, 182, 183, 184, 185, 186, 187, 188, 189, 190, 191, 192, 193, 194, 195, 196, 197, 198, 199, 200, 201, 202, 203, 204, 205, 206, 207, 208, 209, 210, 211, 212, 213, 214, 215, 216, 217, 218, 219, 220, 221, 222, 223, 224, 225, 226, 227, 228, 229, 230, 231, 232, 233, 234, 235, 236, 237, 238, 239, 240, 241, 242, 243, 244, 245, 246, 247, 248, 249, 250, 251, 252, 253, 254, 255, 256, 257, 258, 259, 260, 261, 262, 263, 264, 265, 266, 267, 268, 269, 270, 271, 272, 273, 274, 275, 276, 277, 278, 279, 280, 281, 282, 283, 284, 285, 286, 287, 288, 289, 290, 291, 292, 293, 294, 295, 296, 297, 298, 299, 300, 301, 302, 303, 304, 305, 306, 307, 308, 309, 310, 311, 312, 313, 314, 315, 316, 317, 318, 319, 320, 321, 322, 323, 324, 325, 326, 327, 328, 329, 330, 331, 332, 333, 334, 335, 336, 337, 338, 339, 340, 341, 342, 343, 344, 345, 346, 347, 348]\n",
      "\n",
      "selected_csv_frame_idxs:\n",
      "len = 174\n",
      "[0, 1, 2, 3, 4, 5, 6, 7, 8, 9, 10, 11, 12, 13, 14, 15, 16, 17, 18, 19, 20, 21, 22, 23, 24, 25, 26, 27, 28, 29, 30, 31, 32, 33, 34, 35, 36, 37, 38, 39, 40, 41, 42, 43, 44, 45, 46, 47, 48, 49, 50, 51, 52, 53, 54, 55, 56, 57, 58, 59, 60, 61, 62, 63, 64, 65, 66, 67, 68, 69, 70, 71, 72, 73, 74, 75, 76, 77, 78, 79, 80, 81, 82, 83, 84, 85, 86, 87, 88, 89, 90, 91, 92, 93, 94, 95, 96, 97, 98, 99, 100, 101, 102, 103, 104, 105, 106, 107, 108, 109, 110, 111, 112, 113, 114, 115, 116, 117, 118, 119, 120, 121, 122, 123, 124, 125, 126, 127, 128, 129, 130, 131, 132, 133, 134, 135, 136, 137, 138, 139, 140, 141, 142, 143, 144, 145, 146, 147, 148, 149, 150, 151, 152, 153, 154, 155, 156, 157, 158, 159, 160, 161, 162, 163, 164, 165, 166, 167, 168, 169, 170, 171, 172, 173, 174, 175, 176, 177, 178, 179, 180, 181, 182, 183, 184, 185, 186, 187, 188, 189, 190, 191, 192, 193, 194, 195, 196, 197, 198, 199, 200, 201, 202, 203, 204, 205, 206, 207, 208, 209, 210, 211, 212, 213, 214, 215, 216, 217, 218, 219, 220, 221, 222, 223, 224, 225, 226, 227, 228, 229, 230, 231, 232, 233, 234, 235, 236, 237, 238, 239, 240, 241, 242, 243, 244, 245, 246, 247, 248, 249, 250, 251, 252, 253, 254, 255, 256, 257, 258, 259, 260, 261, 262, 263, 264, 265, 266, 267, 268, 269, 270, 271, 272, 273, 274, 275, 276, 277, 278, 279, 280, 281, 282, 283, 284, 285, 286, 287, 288, 289, 290, 291, 292, 293, 294, 295, 296, 297, 298, 299, 300, 301, 302, 303, 304, 305, 306, 307, 308, 309, 310, 311, 312, 313, 314, 315, 316, 317, 318, 319, 320, 321, 322, 323, 324, 325, 326, 327, 328, 329, 330, 331, 332, 333, 334, 335, 336, 337, 338, 339, 340, 341, 342, 343, 344, 345, 346, 347, 348, 349, 350, 351, 352, 353, 354, 355, 356, 357, 358, 359, 360, 361, 362, 363, 364, 365, 366, 367, 368, 369, 370, 371, 372, 373, 374, 375, 376, 377, 378, 379, 380, 381, 382, 383, 384, 385, 386, 387, 388, 389, 390, 391, 392, 393, 394, 395, 396, 397, 398, 399, 400, 401, 402, 403, 404]\n",
      "\n"
     ]
    }
   ],
   "source": [
    "video_frame_len = video_frame_range[1] - video_frame_range[0] + 1\n",
    "csv_frame_len = csv_frame_range[1] - csv_frame_range[0] + 1\n",
    "\n",
    "video_frame_idxs = [*range(video_frame_range[0], video_frame_range[1]+1)]\n",
    "csv_frame_idxs = [*range(csv_frame_range[0], csv_frame_range[1]+1)]\n",
    "\n",
    "if auto_align:\n",
    "\n",
    "    if csv_frame_len > video_frame_len:\n",
    "        selected_csv_frame_idxs = np.linspace(\n",
    "                    csv_frame_range[0], csv_frame_range[1], \n",
    "                    num=video_frame_len,\n",
    "                    endpoint=True, \n",
    "                    retstep=False, \n",
    "                    dtype=int\n",
    "                ).tolist()\n",
    "        selected_video_frame_idxs = video_frame_idxs\n",
    "    else:\n",
    "        selected_video_frame_idxs = np.linspace(\n",
    "                    video_frame_range[0], video_frame_range[1], \n",
    "                    num=csv_frame_len,\n",
    "                    endpoint=True, \n",
    "                    retstep=False, \n",
    "                    dtype=int\n",
    "                ).tolist()\n",
    "        selected_csv_frame_idxs = csv_frame_idxs\n",
    "    \n",
    "else:\n",
    "\n",
    "    selected_dict = {}\n",
    "    video_frame_li, csv_frame_p_li, csv_frame_c_li = [], [], []\n",
    "    \n",
    "\n",
    "    # load video frames from assigned indexs\n",
    "    print(\"loading video frames ...\")\n",
    "    cap = cv2.VideoCapture(video_path)\n",
    "    video_iterator = iter(video_frame_idxs)\n",
    "    frame_no, cur_video = 0, next(video_iterator)\n",
    "    while cap.isOpened():\n",
    "        ret, frame = cap.read()\n",
    "        if not ret:\n",
    "            print(\"Exiting...\")\n",
    "            break\n",
    "        if frame_no == cur_video:\n",
    "            video_frame_li.append(frame)\n",
    "        \n",
    "            if cur_video == video_frame_idxs[-1]:\n",
    "                break\n",
    "            else:\n",
    "                cur_video = next(video_iterator)\n",
    "\n",
    "        frame_no += 1\n",
    "    cap.release()\n",
    "    print(f\"loaded frame, count = {len(video_frame_li)}\")\n",
    "\n",
    "\n",
    "    # load csv frames from assigned indexs\n",
    "    print(\"loading csv frames ...\")\n",
    "    csv_frame_p_li = person_kp[csv_frame_range[0]:csv_frame_range[1]+1]\n",
    "    csv_frame_c_li = club_kp[csv_frame_range[0]:csv_frame_range[1]+1]\n",
    "\n",
    "\n",
    "    # show the pair of video frames and csv frames\n",
    "    video_ptr, csv_ptr = 0, 0\n",
    "    while True:\n",
    "        \n",
    "        img = copy.deepcopy(video_frame_li[video_ptr])\n",
    "        keypoint_3d_p = csv_frame_p_li[csv_ptr]\n",
    "        keypoint_3d_c = csv_frame_c_li[csv_ptr]\n",
    "        keypoint_2d_p, keypoint_2d_c = project_to_2d(keypoint_3d_p, keypoint_3d_c, 15)\n",
    "\n",
    "        cur_video_idx = video_frame_range[0] + video_ptr\n",
    "        cur_csv_idx = csv_frame_range[0] + csv_ptr\n",
    "\n",
    "        # put skeleton into img\n",
    "        rendered_frame = render_skeleton(\n",
    "            img, keypoint_2d_p, keypoint_2d_c\n",
    "        )\n",
    "        \n",
    "        # put index info into img\n",
    "        rendered_frame = cv2.putText(rendered_frame, f\"(video_index, ncsv_index) =  ({cur_video_idx}, {cur_csv_idx})\", (10, 30), cv2.FONT_HERSHEY_SIMPLEX, 1, (255,255,51), 2, cv2.LINE_AA)\n",
    "\n",
    "        cv2.imshow(\"frame\", rendered_frame)\n",
    "\n",
    "        c = cv2.waitKey() & 0xFF\n",
    "        if c == 13: # enter\n",
    "            selected_dict[cur_video_idx] = cur_csv_idx\n",
    "            video_ptr += 1\n",
    "            csv_ptr += 1\n",
    "        elif c == 82: # up\n",
    "            video_ptr -= 1\n",
    "        elif c == 84: # down\n",
    "            video_ptr += 1\n",
    "        elif c == 81: # left\n",
    "            csv_ptr -= 1\n",
    "        elif c == 83: # right\n",
    "            csv_ptr += 1\n",
    "        elif c == ord(\"q\"):\n",
    "            break\n",
    "\n",
    "        if video_ptr >= len(video_frame_li):\n",
    "            video_ptr = len(video_frame_li) - 1\n",
    "        elif video_ptr < 0:\n",
    "            video_ptr = 0\n",
    "\n",
    "        if csv_ptr >= len(csv_frame_p_li):\n",
    "            csv_ptr = len(csv_frame_p_li) - 1\n",
    "        elif csv_ptr < 0:\n",
    "            csv_ptr = 0\n",
    "            \n",
    "    cv2.destroyAllWindows()\n",
    "    \n",
    "    selected_csv_frame_idxs = []\n",
    "    selected_video_frame_idxs = []\n",
    "    for key in sorted(selected_dict.keys()):\n",
    "        selected_video_frame_idxs.append(key)\n",
    "        selected_csv_frame_idxs.append(selected_dict[key])\n",
    "\n",
    "print(f\"selected_video_frame_idxs:\\nlen = {len(selected_video_frame_idxs)}\\n{video_frame_idxs}\\n\")\n",
    "print(f\"selected_csv_frame_idxs:\\nlen = {len(selected_csv_frame_idxs)}\\n{csv_frame_idxs}\\n\")\n"
   ]
  },
  {
   "cell_type": "markdown",
   "metadata": {},
   "source": [
    "### Save seleted result as npz"
   ]
  },
  {
   "cell_type": "code",
   "execution_count": 137,
   "metadata": {},
   "outputs": [
    {
     "name": "stdout",
     "output_type": "stream",
     "text": [
      "Saved npz file in data/1107/swing_1/skeleton.npz\n"
     ]
    }
   ],
   "source": [
    "seleted_kp_3d_p_li = []\n",
    "seleted_kp_3d_c_li = []\n",
    "seleted_kp_2d_p_li = []\n",
    "seleted_kp_2d_c_li = []\n",
    "\n",
    "\n",
    "for i in selected_csv_frame_idxs:\n",
    "    seleted_kp_3d_p_li.append(person_kp[i])\n",
    "    seleted_kp_3d_c_li.append(club_kp[i])\n",
    "\n",
    "    kp_2d_p, kp_2d_c = project_to_2d(person_kp[i], club_kp[i])\n",
    "    seleted_kp_2d_p_li.append(kp_2d_p)\n",
    "    seleted_kp_2d_c_li.append(kp_2d_c)\n",
    "\n",
    "result_path = os.path.join(data_dir, swing_dir, \"skeleton.npz\")\n",
    "np.savez(result_path,\n",
    "        video_frame_index=selected_video_frame_idxs,\n",
    "        csv_frame_index=selected_csv_frame_idxs,\n",
    "        keypoints_3d_person=seleted_kp_3d_p_li,\n",
    "        keypoints_3d_club=seleted_kp_3d_c_li,\n",
    "        keypoints_2d_person=seleted_kp_2d_p_li,\n",
    "        keypoint_2d_club=seleted_kp_2d_c_li\n",
    "        )\n",
    "print(f\"Saved npz file in {result_path}\")\n"
   ]
  },
  {
   "cell_type": "markdown",
   "metadata": {},
   "source": [
    "### Save seleted result as mp4"
   ]
  },
  {
   "cell_type": "code",
   "execution_count": 138,
   "metadata": {},
   "outputs": [
    {
     "name": "stdout",
     "output_type": "stream",
     "text": [
      "Saved seleted video frames as mp4 in data/1107/swing_1/original.mp4\n",
      "Saved seleted video frames with no shifted skeleton as mp4 in data/1107/swing_1/2d_no_shift.mp4\n",
      "Saved seleted video frames with shifted skeleton as mp4 in data/1107/swing_1/2d_shift.mp4\n"
     ]
    }
   ],
   "source": [
    "original_video_path = os.path.join(data_dir, swing_dir, \"original.mp4\")\n",
    "no_shift_video_path = os.path.join(data_dir, swing_dir, \"2d_no_shift.mp4\")\n",
    "shift_video_path = os.path.join(data_dir, swing_dir, \"2d_shift.mp4\")\n",
    "\n",
    "csv_iterator = iter(selected_csv_frame_idxs)\n",
    "video_iterator = iter(selected_video_frame_idxs)\n",
    "\n",
    "cap = cv2.VideoCapture(video_path)\n",
    "fourcc = cv2.VideoWriter_fourcc(*\"mp4v\") # mp4\n",
    "original_out = cv2.VideoWriter(original_video_path, fourcc, 20, (1920, 1200))\n",
    "no_shift_out = cv2.VideoWriter(no_shift_video_path, fourcc, 20, (1920, 1200))\n",
    "shift_out = cv2.VideoWriter(shift_video_path, fourcc, 20, (1920, 1200))\n",
    "\n",
    "frame_no = 0\n",
    "cur_video = next(video_iterator)\n",
    "\n",
    "while cap.isOpened():\n",
    "    ret, frame = cap.read()\n",
    "    if not ret:\n",
    "        print(\"video read ending...\")\n",
    "        break\n",
    "    \n",
    "    if frame_no == cur_video:\n",
    "        cur_csv = next(csv_iterator)\n",
    "\n",
    "        original_out.write(frame)\n",
    "\n",
    "        kp_2d_p, kp_2d_c = project_to_2d(person_kp[cur_csv], club_kp[cur_csv], 0)\n",
    "        rendered_frame_no_shift = render_skeleton(copy.deepcopy(frame), kp_2d_p, kp_2d_c)\n",
    "        no_shift_out.write(rendered_frame_no_shift)\n",
    "\n",
    "        kp_2d_p, kp_2d_c = project_to_2d(person_kp[cur_csv], club_kp[cur_csv], 15)\n",
    "        rendered_frame_shift = render_skeleton(copy.deepcopy(frame), kp_2d_p, kp_2d_c)\n",
    "        shift_out.write(rendered_frame_shift)\n",
    "\n",
    "        # cv2.imshow(\"golf_swing\", rendered_frame)\n",
    "        # c = cv2.waitKey(500)\n",
    "        # if c & 0xFF == ord('q'):\n",
    "        #     break\n",
    "        \n",
    "        if cur_video == video_frame_idxs[-1]: \n",
    "            break\n",
    "        else:\n",
    "            cur_video = next(video_iterator)\n",
    "        \n",
    "    frame_no += 1\n",
    "\n",
    "cap.release()\n",
    "original_out.release()\n",
    "no_shift_out.release()\n",
    "shift_out.release()\n",
    "cv2.destroyAllWindows()\n",
    "\n",
    "print(f\"Saved seleted video frames as mp4 in {original_video_path}\")\n",
    "print(f\"Saved seleted video frames with no shifted skeleton as mp4 in {no_shift_video_path}\")\n",
    "print(f\"Saved seleted video frames with shifted skeleton as mp4 in {shift_video_path}\")"
   ]
  }
 ],
 "metadata": {
  "interpreter": {
   "hash": "6f5124d82756f2b8ddedb133c78cfb3d92bbee122024b7bbb86e1a5dd52ddff0"
  },
  "kernelspec": {
   "display_name": "defaultEnvAna",
   "language": "python",
   "name": "python3"
  },
  "language_info": {
   "codemirror_mode": {
    "name": "ipython",
    "version": 3
   },
   "file_extension": ".py",
   "mimetype": "text/x-python",
   "name": "python",
   "nbconvert_exporter": "python",
   "pygments_lexer": "ipython3",
   "version": "3.8.13"
  },
  "orig_nbformat": 4
 },
 "nbformat": 4,
 "nbformat_minor": 2
}
