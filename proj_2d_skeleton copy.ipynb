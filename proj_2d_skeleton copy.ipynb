{
 "cells": [
  {
   "cell_type": "code",
   "execution_count": 1,
   "metadata": {},
   "outputs": [],
   "source": [
    "import pandas as pd\n",
    "import numpy as np\n",
    "import re\n",
    "import os\n",
    "import cv2"
   ]
  },
  {
   "cell_type": "markdown",
   "metadata": {},
   "source": [
    "### Set file path"
   ]
  },
  {
   "cell_type": "code",
   "execution_count": 2,
   "metadata": {},
   "outputs": [],
   "source": [
    "data_dir = \"data/1107\"\n",
    "swing_dir = \"swing_1\"\n",
    "video_path = os.path.join(data_dir, swing_dir, \"video.avi\")\n",
    "\n",
    "csv_path = os.path.join(data_dir, swing_dir, \"pose_coord.csv\")\n",
    "cali_path = os.path.join(data_dir, \"cali_out.npz\")\n",
    "\n",
    "video_frames = (170, 349) # set the range of video frame, start at 1\n",
    "csv_frames = (1, 405) # set the range of csv frame, start at 1\n",
    "\n",
    "pattern = \"golf:(\\w+)\" # label pattern\n",
    "usecols = 86 # csv columns about coordinates\n",
    "\n",
    "# define three dots(vicon system) on the chessboard\n",
    "a = [-88.5, 291.2, 1593.1] # y+ direction\n",
    "b = [-94.4, 712.8, 1570.4] # origin\n",
    "c = [1.8, 666.5, 734.7]   # x+ direction"
   ]
  },
  {
   "cell_type": "markdown",
   "metadata": {},
   "source": [
    "### Parse CSV file\n",
    "replace \"nan\" with \"0\""
   ]
  },
  {
   "cell_type": "code",
   "execution_count": 3,
   "metadata": {},
   "outputs": [],
   "source": [
    "def parse_csv(filepath, usecols, pattern):\n",
    "    fps, labels, keypoints = 0, [], []\n",
    "\n",
    "    fps = int(pd.read_csv(filepath, nrows=1).values[0][0])\n",
    "\n",
    "    csv_df = pd.read_csv(filepath, skiprows=[0, 1], usecols=range(usecols))\n",
    "    pattern = re.compile(pattern)\n",
    "\n",
    "    labels = [pattern.match(col)[1] for col in csv_df.columns.values if pattern.match(col)]\n",
    "    \n",
    "    coord_df = csv_df.iloc[2:, 2:]\n",
    "    coord_df.fillna(value=0, inplace=True)\n",
    "    coord_li = coord_df.values\n",
    "\n",
    "    for i in range(len(coord_li)):\n",
    "        coord = [[float(coord_li[i][j]), -float(coord_li[i][j+1]), -float(coord_li[i][j+2])] for j in range(0, len(coord_li[i]), 3)]\n",
    "        # if csv_frames[0]<= i+1 <= csv_frames[1]: keypoints.append(coord)\n",
    "        keypoints.append(coord)\n",
    "\n",
    "    return (fps, labels, keypoints)"
   ]
  },
  {
   "cell_type": "markdown",
   "metadata": {},
   "source": [
    "### Convert axis system\n",
    "from vicon to world system through three dots"
   ]
  },
  {
   "cell_type": "code",
   "execution_count": 4,
   "metadata": {},
   "outputs": [],
   "source": [
    "def vicon_to_world_axis(base_dots, dots):\n",
    "    a, b, c = np.asarray(base_dots[0]), np.asarray(base_dots[1]), np.asarray(base_dots[2])\n",
    "    x_vec = c - b\n",
    "    y_vec = a - b\n",
    "    z_vec = np.cross(x_vec, y_vec)\n",
    "\n",
    "    x_norm = np.linalg.norm(x_vec)\n",
    "    y_norm = np.linalg.norm(y_vec)\n",
    "    z_norm = np.linalg.norm(z_vec)\n",
    "\n",
    "    result = []\n",
    "    for frame_dots in dots:\n",
    "        frame_result = []\n",
    "        for dot in frame_dots:\n",
    "            dot = np.asarray(dot)\n",
    "            dot_vec = dot - b\n",
    "\n",
    "            proj_x = (np.dot(dot_vec, x_vec) / x_norm**2) * x_vec\n",
    "            proj_y = (np.dot(dot_vec, y_vec) / y_norm**2) * y_vec\n",
    "            proj_z = (np.dot(dot_vec, z_vec) / z_norm**2) * z_vec\n",
    "\n",
    "            x_coord = np.linalg.norm(proj_x)\n",
    "            y_coord = np.linalg.norm(proj_y)\n",
    "            z_coord = np.linalg.norm(proj_z)\n",
    "\n",
    "            if not all(np.sign(x_vec)==np.sign(proj_x)): x_coord *= -1\n",
    "            if not all(np.sign(y_vec)==np.sign(proj_y)): y_coord *= -1\n",
    "            if not all(np.sign(z_vec)==np.sign(proj_z)): z_coord *= -1\n",
    "\n",
    "            frame_result.append([x_coord, y_coord, z_coord])\n",
    "\n",
    "        result.append(frame_result)\n",
    "\n",
    "    return result"
   ]
  },
  {
   "cell_type": "markdown",
   "metadata": {},
   "source": [
    "### Keypoints labels and edges\n",
    "total 17 keypoints for person, and 2 for club"
   ]
  },
  {
   "cell_type": "code",
   "execution_count": 5,
   "metadata": {},
   "outputs": [],
   "source": [
    "label_person = {\n",
    "    0: \"hip\",  # estimate\n",
    "    1: \"r_hip\", \n",
    "    2: \"r_knee\", \n",
    "    3: \"r_ankle\", \n",
    "    4: \"l_hip\", \n",
    "    5: \"l_knee\", \n",
    "    6: \"l_ankle\", \n",
    "    7: \"spine\", \n",
    "    8: \"neck\", # estimate\n",
    "    9: \"chin\", # estimate\n",
    "    10: \"head\", \n",
    "    11: \"l_shoulder\", \n",
    "    12: \"l_elbow\", \n",
    "    13: \"l_wrist\", \n",
    "    14: \"r_shoulder\", \n",
    "    15: \"r_elbow\", \n",
    "    16: \"r_wrist\"}\n",
    "label_club = {0: \"shaft1\", 1: \"shaft2\", 2: \"head\"}\n",
    "\n",
    "edges_person = [(0, 1), (1, 2), (2, 3), (0, 4), (4, 5), (5, 6), (0, 7), (7, 8), (8, 9), (9, 10), (8, 11), (11, 12), (12, 13), (8, 14), (14, 15), (15, 16)]\n",
    "edges_club = [(0, 1), (1, 2)]"
   ]
  },
  {
   "cell_type": "markdown",
   "metadata": {},
   "source": [
    "### Estimate the center keypoints"
   ]
  },
  {
   "cell_type": "code",
   "execution_count": 6,
   "metadata": {},
   "outputs": [],
   "source": [
    "def estimate_keypoints(label_vicon, keypoints):\n",
    "    keypoints = np.asarray(keypoints)\n",
    "    kps_person, kps_club = [], []\n",
    "    for item in keypoints:\n",
    "        # person \n",
    "        head = (item[label_vicon.index(\"head1\")] + item[label_vicon.index(\"head2\")]) / 2\n",
    "\n",
    "        spine = (item[label_vicon.index(\"center1\")] + item[label_vicon.index(\"center2\")]) / 2\n",
    "        r_hip = (item[label_vicon.index(\"center3\")] + item[label_vicon.index(\"center4\")]) / 2\n",
    "        l_hip = (item[label_vicon.index(\"center5\")] + item[label_vicon.index(\"center6\")]) / 2\n",
    "        hip = (r_hip + l_hip) / 2\n",
    "\n",
    "        l_shoulder = (item[label_vicon.index(\"left_arm1\")] + item[label_vicon.index(\"left_arm2\")]) / 2\n",
    "        r_shoulder = (item[label_vicon.index(\"right_arm1\")] + item[label_vicon.index(\"right_arm2\")]) / 2\n",
    "        neck = (l_shoulder + r_shoulder) / 2\n",
    "\n",
    "        chin = (head + neck) / 2\n",
    "\n",
    "        l_elbow = (item[label_vicon.index(\"left_arm3\")] + item[label_vicon.index(\"left_arm4\")]) / 2\n",
    "        r_elbow = (item[label_vicon.index(\"right_arm3\")] + item[label_vicon.index(\"right_arm4\")]) / 2\n",
    "\n",
    "        l_wrist = (item[label_vicon.index(\"left_arm5\")] + item[label_vicon.index(\"left_arm6\")]) / 2\n",
    "        r_wrist = (item[label_vicon.index(\"right_arm5\")] + item[label_vicon.index(\"right_arm6\")]) / 2\n",
    "\n",
    "        l_knee = (item[label_vicon.index(\"left_leg1\")] + item[label_vicon.index(\"left_leg2\")]) / 2\n",
    "        r_knee = (item[label_vicon.index(\"right_leg1\")] + item[label_vicon.index(\"right_leg2\")]) / 2\n",
    "\n",
    "        l_ankle = item[label_vicon.index(\"left_leg3\")]\n",
    "        r_ankle = item[label_vicon.index(\"right_leg3\")]\n",
    "\n",
    "        kps_person.append([\n",
    "            hip.tolist(), r_hip.tolist(), r_knee.tolist(), r_ankle.tolist(), l_hip.tolist(), \n",
    "            l_knee.tolist(), l_ankle.tolist(), spine.tolist(), neck.tolist(), chin.tolist(), \n",
    "            head.tolist(), l_shoulder.tolist(), l_elbow.tolist(), l_wrist.tolist(), r_shoulder.tolist(), \n",
    "            r_elbow.tolist(), r_wrist.tolist()\n",
    "        ])\n",
    "\n",
    "        # club\n",
    "        shaft1 = (item[label_vicon.index(\"club1\")]).tolist()\n",
    "        shaft2 = (item[label_vicon.index(\"club2\")]).tolist()\n",
    "\n",
    "        unit_vector = (item[label_vicon.index(\"club2\")] - item[label_vicon.index(\"club1\")]) / np.linalg.norm(item[label_vicon.index(\"club2\")] - item[label_vicon.index(\"club1\")])\n",
    "        club_head = item[label_vicon.index(\"club2\")] + unit_vector *290 \n",
    "        \n",
    "        kps_club.append([shaft1, shaft2, club_head])\n",
    "\n",
    "    return (kps_person, kps_club)"
   ]
  },
  {
   "cell_type": "markdown",
   "metadata": {},
   "source": [
    "### Get total keypoints\n",
    "- parse csv file\n",
    "- (optional) convert from vicon to chessboard system\n",
    "- estimate real joints"
   ]
  },
  {
   "cell_type": "code",
   "execution_count": 7,
   "metadata": {},
   "outputs": [
    {
     "name": "stdout",
     "output_type": "stream",
     "text": [
      "Vicon FPS = 110\n",
      "Total person keypoint frame = 405\n",
      "Total club keypoint frame = 405\n"
     ]
    }
   ],
   "source": [
    "fps, label_vicon, keypoints = parse_csv(csv_path, usecols, pattern)\n",
    "# keypoints = vicon_to_world_axis((a, b, c), keypoints)\n",
    "person_kp, club_kp = estimate_keypoints(label_vicon, keypoints)\n",
    "\n",
    "print(f\"Vicon FPS = {fps}\")\n",
    "print(f\"Total person keypoint frame = {len(person_kp)}\")\n",
    "print(f\"Total club keypoint frame = {len(club_kp)}\")\n"
   ]
  },
  {
   "cell_type": "markdown",
   "metadata": {},
   "source": [
    "### Align csv frames and video frames based on index"
   ]
  },
  {
   "cell_type": "code",
   "execution_count": 8,
   "metadata": {},
   "outputs": [
    {
     "name": "stdout",
     "output_type": "stream",
     "text": [
      "csv_frame_idxs: \n",
      "[0, 2, 4, 6, 9, 11, 13, 15, 18, 20, 22, 24, 27, 29, 31, 33, 36, 38, 40, 42, 45, 47, 49, 51, 54, 56, 58, 60, 63, 65, 67, 69, 72, 74, 76, 78, 81, 83, 85, 88, 90, 92, 94, 97, 99, 101, 103, 106, 108, 110, 112, 115, 117, 119, 121, 124, 126, 128, 130, 133, 135, 137, 139, 142, 144, 146, 148, 151, 153, 155, 157, 160, 162, 164, 167, 169, 171, 173, 176, 178, 180, 182, 185, 187, 189, 191, 194, 196, 198, 200, 203, 205, 207, 209, 212, 214, 216, 218, 221, 223, 225, 227, 230, 232, 234, 236, 239, 241, 243, 246, 248, 250, 252, 255, 257, 259, 261, 264, 266, 268, 270, 273, 275, 277, 279, 282, 284, 286, 288, 291, 293, 295, 297, 300, 302, 304, 306, 309, 311, 313, 315, 318, 320, 322, 325, 327, 329, 331, 334, 336, 338, 340, 343, 345, 347, 349, 352, 354, 356, 358, 361, 363, 365, 367, 370, 372, 374, 376, 379, 381, 383, 385, 388, 390, 392, 394, 397, 399, 401, 404] \n",
      "len = 180\n",
      "\n",
      "video_frame_idxs: \n",
      "[169, 170, 171, 172, 173, 174, 175, 176, 177, 178, 179, 180, 181, 182, 183, 184, 185, 186, 187, 188, 189, 190, 191, 192, 193, 194, 195, 196, 197, 198, 199, 200, 201, 202, 203, 204, 205, 206, 207, 208, 209, 210, 211, 212, 213, 214, 215, 216, 217, 218, 219, 220, 221, 222, 223, 224, 225, 226, 227, 228, 229, 230, 231, 232, 233, 234, 235, 236, 237, 238, 239, 240, 241, 242, 243, 244, 245, 246, 247, 248, 249, 250, 251, 252, 253, 254, 255, 256, 257, 258, 259, 260, 261, 262, 263, 264, 265, 266, 267, 268, 269, 270, 271, 272, 273, 274, 275, 276, 277, 278, 279, 280, 281, 282, 283, 284, 285, 286, 287, 288, 289, 290, 291, 292, 293, 294, 295, 296, 297, 298, 299, 300, 301, 302, 303, 304, 305, 306, 307, 308, 309, 310, 311, 312, 313, 314, 315, 316, 317, 318, 319, 320, 321, 322, 323, 324, 325, 326, 327, 328, 329, 330, 331, 332, 333, 334, 335, 336, 337, 338, 339, 340, 341, 342, 343, 344, 345, 346, 347, 348] \n",
      "len = 180\n",
      "\n"
     ]
    }
   ],
   "source": [
    "total_video_frames = video_frames[1] - video_frames[0] + 1\n",
    "total_csv_frames = csv_frames[1] - csv_frames[0] + 1\n",
    "\n",
    "video_frame_idxs = [*range(video_frames[0]-1, video_frames[1])]\n",
    "csv_frame_idxs = [*range(csv_frames[0]-1, csv_frames[1])]\n",
    "\n",
    "\n",
    "if total_csv_frames > total_video_frames:\n",
    "    csv_frame_idxs = np.linspace(\n",
    "                csv_frames[0]-1, csv_frames[1]-1, \n",
    "                num=total_video_frames,\n",
    "                endpoint=True, \n",
    "                retstep=False, \n",
    "                dtype=int\n",
    "            ).tolist()\n",
    "else:\n",
    "    video_frame_idxs = np.linspace(\n",
    "                video_frames[0]-1, video_frames[1]-1, \n",
    "                num=total_csv_frames,\n",
    "                endpoint=True, \n",
    "                retstep=False, \n",
    "                dtype=int\n",
    "            ).tolist()\n",
    "\n",
    "print(f\"csv_frame_idxs: \\n{csv_frame_idxs} \\nlen = {len(csv_frame_idxs)}\\n\")\n",
    "print(f\"video_frame_idxs: \\n{video_frame_idxs} \\nlen = {len(video_frame_idxs)}\\n\")\n"
   ]
  },
  {
   "cell_type": "markdown",
   "metadata": {},
   "source": [
    "### Load calibration result\n",
    "Extrinsic and Intrinsic matrix"
   ]
  },
  {
   "cell_type": "code",
   "execution_count": 9,
   "metadata": {},
   "outputs": [],
   "source": [
    "cali_info = np.load(cali_path)\n",
    "img_index = int(dict(cali_info[\"img_dict\"])[\"base_cb.bmp\"])\n",
    "\n",
    "rvecs, tvecs, mtx, dist = cali_info[\"rvecs\"], cali_info[\"tvecs\"], cali_info[\"mtx\"], cali_info[\"dist\"]\n",
    "rvecs, tvecs = rvecs[img_index], tvecs[img_index]"
   ]
  },
  {
   "cell_type": "markdown",
   "metadata": {},
   "source": [
    "### Project 3D to 2D coordinates and render 2D skeleton on a single image"
   ]
  },
  {
   "cell_type": "code",
   "execution_count": 10,
   "metadata": {},
   "outputs": [],
   "source": [
    "def render_skeleton(frame, person, club, rvecs, tvecs, mtx, dist, shift=15):\n",
    "    person_2d_kp = []\n",
    "    club_2d_kp = []\n",
    "    \n",
    "    size, p_color, c_color, thickness = 3, (255, 165, 0), (102, 255, 230), 3\n",
    "\n",
    "    for coord in person:\n",
    "        imgPoint, _ = cv2.projectPoints(np.array(coord), rvecs, tvecs, mtx, dist)\n",
    "        point = (round(imgPoint[0][0][0]-shift), round(imgPoint[0][0][1]))\n",
    "        \n",
    "        person_2d_kp.append(point)\n",
    "        cv2.circle(frame, point, size, p_color, thickness)\n",
    "        \n",
    "    \n",
    "    for coord in club:\n",
    "        imgPoint, _ = cv2.projectPoints(np.array(coord), rvecs, tvecs, mtx, dist)\n",
    "        point = (round(imgPoint[0][0][0]-shift), round(imgPoint[0][0][1]))\n",
    "        club_2d_kp.append(point)\n",
    "        cv2.circle(frame, point, size, c_color, thickness)\n",
    "\n",
    "    for edge in edges_person:\n",
    "        start, end = edge\n",
    "        cv2.line(frame, person_2d_kp[start], person_2d_kp[end], p_color, thickness=thickness)\n",
    "    \n",
    "    for edge in edges_club:\n",
    "        start, end = edge\n",
    "        cv2.line(frame, club_2d_kp[start], club_2d_kp[end], c_color, thickness=thickness)\n",
    "    \n",
    "    return frame\n",
    "        "
   ]
  },
  {
   "cell_type": "markdown",
   "metadata": {},
   "source": [
    "### Iterate video frames and csv frames\n",
    "without shift"
   ]
  },
  {
   "cell_type": "code",
   "execution_count": 12,
   "metadata": {},
   "outputs": [],
   "source": [
    "csv_iterator = iter(csv_frame_idxs)\n",
    "video_iterator = iter(video_frame_idxs)\n",
    "\n",
    "cap = cv2.VideoCapture(video_path)\n",
    "fourcc = cv2.VideoWriter_fourcc(*\"mp4v\") # mp4\n",
    "out = cv2.VideoWriter(os.path.join(data_dir, swing_dir, \"2d_no_shift.mp4\"), fourcc, 20, (1920, 1200))\n",
    "\n",
    "frame_no, cur_video = 0, next(video_iterator)\n",
    "\n",
    "while cap.isOpened():\n",
    "    ret, frame = cap.read()\n",
    "    if not ret:\n",
    "        print(\"video read ending...\")\n",
    "        break\n",
    "    \n",
    "    if frame_no == cur_video:\n",
    "        cur_csv = next(csv_iterator)\n",
    "\n",
    "        rendered_frame = render_skeleton(\n",
    "            frame, person_kp[cur_csv], club_kp[cur_csv],\n",
    "            rvecs, tvecs, mtx, dist, 0\n",
    "        )\n",
    "\n",
    "        cv2.imshow(\"golf_swing\", rendered_frame)\n",
    "        c = cv2.waitKey(500)\n",
    "        if c & 0xFF == ord('q'):\n",
    "            break\n",
    "        \n",
    "        out.write(rendered_frame)\n",
    "        if cur_video == video_frame_idxs[-1]: \n",
    "            break\n",
    "        else:\n",
    "            cur_video = next(video_iterator)\n",
    "        \n",
    "    frame_no += 1\n",
    "\n",
    "cap.release()\n",
    "out.release()\n",
    "cv2.destroyAllWindows()"
   ]
  },
  {
   "cell_type": "markdown",
   "metadata": {},
   "source": [
    "### Iterate video frames and csv frames\n",
    "with shift=15"
   ]
  },
  {
   "cell_type": "code",
   "execution_count": 87,
   "metadata": {},
   "outputs": [],
   "source": [
    "csv_iterator = iter(csv_frame_idxs)\n",
    "video_iterator = iter(video_frame_idxs)\n",
    "\n",
    "cap = cv2.VideoCapture(video_path)\n",
    "fourcc = cv2.VideoWriter_fourcc(*\"mp4v\") # mp4\n",
    "out = cv2.VideoWriter(os.path.join(data_dir, swing_dir, \"2d_shift.mp4\"), fourcc, 20, (1920, 1200))\n",
    "\n",
    "frame_no, cur_video = 0, next(video_iterator)\n",
    "\n",
    "while cap.isOpened():\n",
    "    ret, frame = cap.read()\n",
    "    if not ret:\n",
    "        print(\"video read ending...\")\n",
    "        break\n",
    "    \n",
    "    if frame_no == cur_video:\n",
    "        cur_csv = next(csv_iterator)\n",
    "\n",
    "        rendered_frame = render_skeleton(\n",
    "            frame, person_kp[cur_csv], club_kp[cur_csv],\n",
    "            rvecs, tvecs, mtx, dist\n",
    "        )\n",
    "\n",
    "        # cv2.imshow(\"golf_swing\", rendered_frame)\n",
    "        # c = cv2.waitKey(500)\n",
    "        # if c & 0xFF == ord('q'):\n",
    "        #     break\n",
    "        \n",
    "        out.write(rendered_frame)\n",
    "        if cur_video == video_frame_idxs[-1]: \n",
    "            break\n",
    "        else:\n",
    "            cur_video = next(video_iterator)\n",
    "        \n",
    "    frame_no += 1\n",
    "\n",
    "cap.release()\n",
    "out.release()\n",
    "cv2.destroyAllWindows()"
   ]
  },
  {
   "cell_type": "markdown",
   "metadata": {},
   "source": [
    "### Save selected frame as video"
   ]
  },
  {
   "cell_type": "code",
   "execution_count": 88,
   "metadata": {},
   "outputs": [],
   "source": [
    "csv_iterator = iter(csv_frame_idxs)\n",
    "video_iterator = iter(video_frame_idxs)\n",
    "\n",
    "cap = cv2.VideoCapture(video_path)\n",
    "fourcc = cv2.VideoWriter_fourcc(*\"mp4v\") # mp4\n",
    "out = cv2.VideoWriter(os.path.join(data_dir, swing_dir, \"original.mp4\"), fourcc, 20, (1920, 1200))\n",
    "\n",
    "frame_no, cur_video = 0, next(video_iterator)\n",
    "\n",
    "while cap.isOpened():\n",
    "    ret, frame = cap.read()\n",
    "    if not ret:\n",
    "        print(\"video read ending...\")\n",
    "        break\n",
    "    \n",
    "    if frame_no == cur_video:\n",
    "        cur_csv = next(csv_iterator)\n",
    "        out.write(frame)\n",
    "\n",
    "        if cur_video == video_frame_idxs[-1]: \n",
    "            break\n",
    "        else:\n",
    "            cur_video = next(video_iterator)\n",
    "        \n",
    "    frame_no += 1\n",
    "\n",
    "cap.release()\n",
    "out.release()\n",
    "cv2.destroyAllWindows()"
   ]
  }
 ],
 "metadata": {
  "interpreter": {
   "hash": "6f5124d82756f2b8ddedb133c78cfb3d92bbee122024b7bbb86e1a5dd52ddff0"
  },
  "kernelspec": {
   "display_name": "defaultEnvAna",
   "language": "python",
   "name": "python3"
  },
  "language_info": {
   "codemirror_mode": {
    "name": "ipython",
    "version": 3
   },
   "file_extension": ".py",
   "mimetype": "text/x-python",
   "name": "python",
   "nbconvert_exporter": "python",
   "pygments_lexer": "ipython3",
   "version": "3.8.13"
  },
  "orig_nbformat": 4
 },
 "nbformat": 4,
 "nbformat_minor": 2
}
